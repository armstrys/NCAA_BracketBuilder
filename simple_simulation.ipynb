{
 "metadata": {
  "language_info": {
   "codemirror_mode": {
    "name": "ipython",
    "version": 3
   },
   "file_extension": ".py",
   "mimetype": "text/x-python",
   "name": "python",
   "nbconvert_exporter": "python",
   "pygments_lexer": "ipython3",
   "version": "3.9.2"
  },
  "orig_nbformat": 2,
  "kernelspec": {
   "name": "python392jvsc74a57bd03e3a3db0b2be1aaf922c6e199224e7ae9d5b033762db9b30507a6608e2d74406",
   "display_name": "Python 3.9.2 64-bit ('bracket_builder': conda)"
  }
 },
 "nbformat": 4,
 "nbformat_minor": 2,
 "cells": [
  {
   "cell_type": "code",
   "execution_count": 1,
   "metadata": {},
   "outputs": [],
   "source": [
    "import pandas as pd\n",
    "import numpy as np\n",
    "from simulation import Load, Submission, Tournament\n",
    "import time\n",
    "# from Simulation"
   ]
  },
  {
   "cell_type": "code",
   "execution_count": 2,
   "metadata": {},
   "outputs": [
    {
     "output_type": "execute_result",
     "data": {
      "text/plain": [
       "array([2021])"
      ]
     },
     "metadata": {},
     "execution_count": 2
    }
   ],
   "source": [
    "mw = 'M'\n",
    "ncaa_files = Load(mw)\n",
    "df = pd.read_csv('./input/'+mw+'Submission.csv')\n",
    "submission = Submission(sub_df=df, files=ncaa_files)\n",
    "submission.seasons"
   ]
  },
  {
   "cell_type": "code",
   "execution_count": 3,
   "metadata": {},
   "outputs": [
    {
     "output_type": "stream",
     "name": "stdout",
     "text": [
      "\n                  Running using seed (0)...\n                  BEWARE if running multiple simulations!\n                  \nSimulating round 0...\n2021 - W11: Michigan St vs. UCLA\nUCLA wins!\n\n2021 - W16: Mt St Mary's vs. TX Southern\nTX Southern wins!\n\n2021 - X11: Drake vs. Wichita St\nDrake wins!\n\n2021 - X16: Appalachian St vs. Norfolk St\nAppalachian St wins!\n\nSimulating round 1...\n2021 - R1W1: Michigan vs. TX Southern\nMichigan wins!\n\n2021 - R1W2: Alabama vs. Iona\nAlabama wins!\n\n2021 - R1W3: Texas vs. Abilene Chr\nTexas wins!\n\n2021 - R1W4: Florida St vs. UNC Greensboro\nUNC Greensboro wins!\n\n2021 - R1W5: Colorado vs. Georgetown\nGeorgetown wins!\n\n2021 - R1W6: BYU vs. UCLA\nBYU wins!\n\n2021 - R1W7: Connecticut vs. Maryland\nMaryland wins!\n\n2021 - R1W8: LSU vs. St Bonaventure\nSt Bonaventure wins!\n\n2021 - R1X1: Gonzaga vs. Appalachian St\nGonzaga wins!\n\n2021 - R1X2: Iowa vs. Grand Canyon\nIowa wins!\n\n2021 - R1X3: Kansas vs. E Washington\nE Washington wins!\n\n2021 - R1X4: Virginia vs. Ohio\nOhio wins!\n\n2021 - R1X5: Creighton vs. UC Santa Barbara\nCreighton wins!\n\n2021 - R1X6: USC vs. Drake\nUSC wins!\n\n2021 - R1X7: Oregon vs. VCU\nVCU wins!\n\n2021 - R1X8: Oklahoma vs. Missouri\nOklahoma wins!\n\n2021 - R1Y1: Illinois vs. Drexel\nIllinois wins!\n\n2021 - R1Y2: Houston vs. Cleveland St\nHouston wins!\n\n2021 - R1Y3: West Virginia vs. Morehead St\nWest Virginia wins!\n\n2021 - R1Y4: Oklahoma St vs. Liberty\nOklahoma St wins!\n\n2021 - R1Y5: Tennessee vs. Oregon St\nOregon St wins!\n\n2021 - R1Y6: San Diego St vs. Syracuse\nSyracuse wins!\n\n2021 - R1Y7: Clemson vs. Rutgers\nClemson wins!\n\n2021 - R1Y8: Loyola-Chicago vs. Georgia Tech\nLoyola-Chicago wins!\n\n2021 - R1Z1: Baylor vs. Hartford\nBaylor wins!\n\n2021 - R1Z2: Ohio St vs. Oral Roberts\nOhio St wins!\n\n2021 - R1Z3: Arkansas vs. Colgate\nArkansas wins!\n\n2021 - R1Z4: Purdue vs. North Texas\nPurdue wins!\n\n2021 - R1Z5: Villanova vs. Winthrop\nVillanova wins!\n\n2021 - R1Z6: Texas Tech vs. Utah St\nTexas Tech wins!\n\n2021 - R1Z7: Florida vs. Virginia Tech\nFlorida wins!\n\n2021 - R1Z8: North Carolina vs. Wisconsin\nWisconsin wins!\n\nSimulating round 2...\n2021 - R2W1: Michigan vs. St Bonaventure\nMichigan wins!\n\n2021 - R2W2: Alabama vs. Maryland\nAlabama wins!\n\n2021 - R2W3: Texas vs. BYU\nTexas wins!\n\n2021 - R2W4: UNC Greensboro vs. Georgetown\nUNC Greensboro wins!\n\n2021 - R2X1: Gonzaga vs. Oklahoma\nGonzaga wins!\n\n2021 - R2X2: Iowa vs. VCU\nIowa wins!\n\n2021 - R2X3: E Washington vs. USC\nUSC wins!\n\n2021 - R2X4: Ohio vs. Creighton\nCreighton wins!\n\n2021 - R2Y1: Illinois vs. Loyola-Chicago\nLoyola-Chicago wins!\n\n2021 - R2Y2: Houston vs. Clemson\nHouston wins!\n\n2021 - R2Y3: West Virginia vs. Syracuse\nSyracuse wins!\n\n2021 - R2Y4: Oklahoma St vs. Oregon St\nOklahoma St wins!\n\n2021 - R2Z1: Baylor vs. Wisconsin\nBaylor wins!\n\n2021 - R2Z2: Ohio St vs. Florida\nFlorida wins!\n\n2021 - R2Z3: Arkansas vs. Texas Tech\nArkansas wins!\n\n2021 - R2Z4: Purdue vs. Villanova\nPurdue wins!\n\nSimulating round 3...\n2021 - R3W1: Michigan vs. UNC Greensboro\nUNC Greensboro wins!\n\n2021 - R3W2: Alabama vs. Texas\nAlabama wins!\n\n2021 - R3X1: Gonzaga vs. Creighton\nGonzaga wins!\n\n2021 - R3X2: Iowa vs. USC\nIowa wins!\n\n2021 - R3Y1: Loyola-Chicago vs. Oklahoma St\nOklahoma St wins!\n\n2021 - R3Y2: Houston vs. Syracuse\nHouston wins!\n\n2021 - R3Z1: Baylor vs. Purdue\nBaylor wins!\n\n2021 - R3Z2: Florida vs. Arkansas\nArkansas wins!\n\nSimulating round 4...\n2021 - R4W1: UNC Greensboro vs. Alabama\nAlabama wins!\n\n2021 - R4X1: Gonzaga vs. Iowa\nGonzaga wins!\n\n2021 - R4Y1: Oklahoma St vs. Houston\nOklahoma St wins!\n\n2021 - R4Z1: Baylor vs. Arkansas\nArkansas wins!\n\nSimulating round 5...\n2021 - R5WX: Alabama vs. Gonzaga\nAlabama wins!\n\n2021 - R5YZ: Oklahoma St vs. Arkansas\nArkansas wins!\n\nSimulating round 6...\n2021 - R6CH: Alabama vs. Arkansas\nArkansas wins!\n\nTournament complete\n"
     ]
    }
   ],
   "source": [
    "tourney = Tournament(ncaa_files,submission,2021)\n",
    "tourney.simulate_tournament('random',seed=0)  # only seed if running single simulation!\n"
   ]
  },
  {
   "cell_type": "code",
   "execution_count": 4,
   "metadata": {
    "tags": []
   },
   "outputs": [],
   "source": [
    "%%capture\n",
    "start = time.time()\n",
    "summary_dict = {}\n",
    "n_sim=5e3\n",
    "for _ in range(int(n_sim)):\n",
    "    tourney = Tournament(ncaa_files, submission,2021)\n",
    "    tourney.simulate_tournament('random')\n",
    "    summary_dict = tourney.summarize_results(summary_dict)\n",
    "end = time.time()\n"
   ]
  },
  {
   "cell_type": "code",
   "execution_count": null,
   "metadata": {},
   "outputs": [],
   "source": [
    "print(end-start)"
   ]
  },
  {
   "cell_type": "code",
   "execution_count": 9,
   "metadata": {},
   "outputs": [
    {
     "output_type": "execute_result",
     "data": {
      "text/plain": [
       "                      First Round  Round of 32  Sweet 16  Elite 8  Final 4  \\\n",
       "X01 - Gonzaga                 1.0       0.9841    0.8956   0.7777   0.6106   \n",
       "Z01 - Baylor                  1.0       0.9718    0.8397   0.7240   0.5443   \n",
       "W02 - Alabama                 1.0       0.9398    0.7346   0.5470   0.3416   \n",
       "Y02 - Houston                 1.0       0.9196    0.7110   0.5031   0.2746   \n",
       "W01 - Michigan                1.0       0.9423    0.6408   0.4404   0.2458   \n",
       "X02 - Iowa                    1.0       0.9379    0.6335   0.3930   0.1414   \n",
       "Y01 - Illinois                1.0       0.9618    0.6266   0.4029   0.2448   \n",
       "Z02 - Ohio St                 1.0       0.9440    0.5716   0.2319   0.0649   \n",
       "Z03 - Arkansas                1.0       0.7677    0.5234   0.3724   0.1471   \n",
       "X03 - Kansas                  1.0       0.9181    0.5145   0.2366   0.0583   \n",
       "X05 - Creighton               1.0       0.7672    0.4727   0.0832   0.0386   \n",
       "Y04 - Oklahoma St             1.0       0.8200    0.4346   0.1771   0.0789   \n",
       "W03 - Texas                   1.0       0.6949    0.4325   0.1656   0.0726   \n",
       "Y05 - Tennessee               1.0       0.7479    0.4266   0.1750   0.0782   \n",
       "Y06 - San Diego St            1.0       0.6424    0.4210   0.1790   0.0782   \n",
       "W04 - Florida St              1.0       0.7429    0.4040   0.1559   0.0652   \n",
       "W05 - Colorado                1.0       0.6870    0.3885   0.1595   0.0678   \n",
       "X04 - Virginia                1.0       0.7797    0.3885   0.0671   0.0289   \n",
       "Z05 - Villanova               1.0       0.6418    0.3542   0.0718   0.0295   \n",
       "Y03 - West Virginia           1.0       0.8078    0.3517   0.1148   0.0458   \n",
       "W06 - BYU                     1.0       0.6590    0.3293   0.0966   0.0364   \n",
       "X06 - USC                     1.0       0.6329    0.3188   0.1405   0.0356   \n",
       "Z04 - Purdue                  1.0       0.5288    0.2820   0.0590   0.0252   \n",
       "Z07 - Florida                 1.0       0.6029    0.2772   0.0949   0.0266   \n",
       "Y08 - Loyola-Chicago          1.0       0.6212    0.2451   0.1473   0.0772   \n",
       "Z06 - Texas Tech              1.0       0.5745    0.2362   0.1426   0.0441   \n",
       "Z13 - North Texas             1.0       0.4712    0.2086   0.0390   0.0170   \n",
       "X07 - Oregon                  1.0       0.5807    0.2068   0.1052   0.0247   \n",
       "W09 - St Bonaventure          1.0       0.5251    0.2016   0.1065   0.0437   \n",
       "Y11 - Syracuse                1.0       0.3576    0.1882   0.0573   0.0229   \n",
       "Y07 - Clemson                 1.0       0.5926    0.1554   0.0721   0.0290   \n",
       "Z12 - Winthrop                1.0       0.3582    0.1552   0.0263   0.0123   \n",
       "\n",
       "                      Championship  Winner  \n",
       "X01 - Gonzaga               0.4484  0.2944  \n",
       "Z01 - Baylor                0.3816  0.2054  \n",
       "W02 - Alabama               0.1381  0.0627  \n",
       "Y02 - Houston               0.1149  0.0450  \n",
       "W01 - Michigan              0.0912  0.0396  \n",
       "X02 - Iowa                  0.0754  0.0345  \n",
       "Y01 - Illinois              0.1114  0.0507  \n",
       "Z02 - Ohio St               0.0279  0.0115  \n",
       "Z03 - Arkansas              0.0734  0.0295  \n",
       "X03 - Kansas                0.0286  0.0125  \n",
       "X05 - Creighton             0.0169  0.0066  \n",
       "Y04 - Oklahoma St           0.0297  0.0117  \n",
       "W03 - Texas                 0.0214  0.0099  \n",
       "Y05 - Tennessee             0.0305  0.0118  \n",
       "Y06 - San Diego St          0.0325  0.0117  \n",
       "W04 - Florida St            0.0190  0.0085  \n",
       "W05 - Colorado              0.0221  0.0090  \n",
       "X04 - Virginia              0.0124  0.0062  \n",
       "Z05 - Villanova             0.0117  0.0041  \n",
       "Y03 - West Virginia         0.0172  0.0061  \n",
       "W06 - BYU                   0.0119  0.0057  \n",
       "X06 - USC                   0.0147  0.0080  \n",
       "Z04 - Purdue                0.0094  0.0036  \n",
       "Z07 - Florida               0.0114  0.0042  \n",
       "Y08 - Loyola-Chicago        0.0320  0.0123  \n",
       "Z06 - Texas Tech            0.0180  0.0072  \n",
       "Z13 - North Texas           0.0061  0.0026  \n",
       "X07 - Oregon                0.0117  0.0042  \n",
       "W09 - St Bonaventure        0.0152  0.0069  \n",
       "Y11 - Syracuse              0.0091  0.0032  \n",
       "Y07 - Clemson               0.0107  0.0047  \n",
       "Z12 - Winthrop              0.0040  0.0020  "
      ],
      "text/html": "<div>\n<style scoped>\n    .dataframe tbody tr th:only-of-type {\n        vertical-align: middle;\n    }\n\n    .dataframe tbody tr th {\n        vertical-align: top;\n    }\n\n    .dataframe thead th {\n        text-align: right;\n    }\n</style>\n<table border=\"1\" class=\"dataframe\">\n  <thead>\n    <tr style=\"text-align: right;\">\n      <th></th>\n      <th>First Round</th>\n      <th>Round of 32</th>\n      <th>Sweet 16</th>\n      <th>Elite 8</th>\n      <th>Final 4</th>\n      <th>Championship</th>\n      <th>Winner</th>\n    </tr>\n  </thead>\n  <tbody>\n    <tr>\n      <th>X01 - Gonzaga</th>\n      <td>1.0</td>\n      <td>0.9841</td>\n      <td>0.8956</td>\n      <td>0.7777</td>\n      <td>0.6106</td>\n      <td>0.4484</td>\n      <td>0.2944</td>\n    </tr>\n    <tr>\n      <th>Z01 - Baylor</th>\n      <td>1.0</td>\n      <td>0.9718</td>\n      <td>0.8397</td>\n      <td>0.7240</td>\n      <td>0.5443</td>\n      <td>0.3816</td>\n      <td>0.2054</td>\n    </tr>\n    <tr>\n      <th>W02 - Alabama</th>\n      <td>1.0</td>\n      <td>0.9398</td>\n      <td>0.7346</td>\n      <td>0.5470</td>\n      <td>0.3416</td>\n      <td>0.1381</td>\n      <td>0.0627</td>\n    </tr>\n    <tr>\n      <th>Y02 - Houston</th>\n      <td>1.0</td>\n      <td>0.9196</td>\n      <td>0.7110</td>\n      <td>0.5031</td>\n      <td>0.2746</td>\n      <td>0.1149</td>\n      <td>0.0450</td>\n    </tr>\n    <tr>\n      <th>W01 - Michigan</th>\n      <td>1.0</td>\n      <td>0.9423</td>\n      <td>0.6408</td>\n      <td>0.4404</td>\n      <td>0.2458</td>\n      <td>0.0912</td>\n      <td>0.0396</td>\n    </tr>\n    <tr>\n      <th>X02 - Iowa</th>\n      <td>1.0</td>\n      <td>0.9379</td>\n      <td>0.6335</td>\n      <td>0.3930</td>\n      <td>0.1414</td>\n      <td>0.0754</td>\n      <td>0.0345</td>\n    </tr>\n    <tr>\n      <th>Y01 - Illinois</th>\n      <td>1.0</td>\n      <td>0.9618</td>\n      <td>0.6266</td>\n      <td>0.4029</td>\n      <td>0.2448</td>\n      <td>0.1114</td>\n      <td>0.0507</td>\n    </tr>\n    <tr>\n      <th>Z02 - Ohio St</th>\n      <td>1.0</td>\n      <td>0.9440</td>\n      <td>0.5716</td>\n      <td>0.2319</td>\n      <td>0.0649</td>\n      <td>0.0279</td>\n      <td>0.0115</td>\n    </tr>\n    <tr>\n      <th>Z03 - Arkansas</th>\n      <td>1.0</td>\n      <td>0.7677</td>\n      <td>0.5234</td>\n      <td>0.3724</td>\n      <td>0.1471</td>\n      <td>0.0734</td>\n      <td>0.0295</td>\n    </tr>\n    <tr>\n      <th>X03 - Kansas</th>\n      <td>1.0</td>\n      <td>0.9181</td>\n      <td>0.5145</td>\n      <td>0.2366</td>\n      <td>0.0583</td>\n      <td>0.0286</td>\n      <td>0.0125</td>\n    </tr>\n    <tr>\n      <th>X05 - Creighton</th>\n      <td>1.0</td>\n      <td>0.7672</td>\n      <td>0.4727</td>\n      <td>0.0832</td>\n      <td>0.0386</td>\n      <td>0.0169</td>\n      <td>0.0066</td>\n    </tr>\n    <tr>\n      <th>Y04 - Oklahoma St</th>\n      <td>1.0</td>\n      <td>0.8200</td>\n      <td>0.4346</td>\n      <td>0.1771</td>\n      <td>0.0789</td>\n      <td>0.0297</td>\n      <td>0.0117</td>\n    </tr>\n    <tr>\n      <th>W03 - Texas</th>\n      <td>1.0</td>\n      <td>0.6949</td>\n      <td>0.4325</td>\n      <td>0.1656</td>\n      <td>0.0726</td>\n      <td>0.0214</td>\n      <td>0.0099</td>\n    </tr>\n    <tr>\n      <th>Y05 - Tennessee</th>\n      <td>1.0</td>\n      <td>0.7479</td>\n      <td>0.4266</td>\n      <td>0.1750</td>\n      <td>0.0782</td>\n      <td>0.0305</td>\n      <td>0.0118</td>\n    </tr>\n    <tr>\n      <th>Y06 - San Diego St</th>\n      <td>1.0</td>\n      <td>0.6424</td>\n      <td>0.4210</td>\n      <td>0.1790</td>\n      <td>0.0782</td>\n      <td>0.0325</td>\n      <td>0.0117</td>\n    </tr>\n    <tr>\n      <th>W04 - Florida St</th>\n      <td>1.0</td>\n      <td>0.7429</td>\n      <td>0.4040</td>\n      <td>0.1559</td>\n      <td>0.0652</td>\n      <td>0.0190</td>\n      <td>0.0085</td>\n    </tr>\n    <tr>\n      <th>W05 - Colorado</th>\n      <td>1.0</td>\n      <td>0.6870</td>\n      <td>0.3885</td>\n      <td>0.1595</td>\n      <td>0.0678</td>\n      <td>0.0221</td>\n      <td>0.0090</td>\n    </tr>\n    <tr>\n      <th>X04 - Virginia</th>\n      <td>1.0</td>\n      <td>0.7797</td>\n      <td>0.3885</td>\n      <td>0.0671</td>\n      <td>0.0289</td>\n      <td>0.0124</td>\n      <td>0.0062</td>\n    </tr>\n    <tr>\n      <th>Z05 - Villanova</th>\n      <td>1.0</td>\n      <td>0.6418</td>\n      <td>0.3542</td>\n      <td>0.0718</td>\n      <td>0.0295</td>\n      <td>0.0117</td>\n      <td>0.0041</td>\n    </tr>\n    <tr>\n      <th>Y03 - West Virginia</th>\n      <td>1.0</td>\n      <td>0.8078</td>\n      <td>0.3517</td>\n      <td>0.1148</td>\n      <td>0.0458</td>\n      <td>0.0172</td>\n      <td>0.0061</td>\n    </tr>\n    <tr>\n      <th>W06 - BYU</th>\n      <td>1.0</td>\n      <td>0.6590</td>\n      <td>0.3293</td>\n      <td>0.0966</td>\n      <td>0.0364</td>\n      <td>0.0119</td>\n      <td>0.0057</td>\n    </tr>\n    <tr>\n      <th>X06 - USC</th>\n      <td>1.0</td>\n      <td>0.6329</td>\n      <td>0.3188</td>\n      <td>0.1405</td>\n      <td>0.0356</td>\n      <td>0.0147</td>\n      <td>0.0080</td>\n    </tr>\n    <tr>\n      <th>Z04 - Purdue</th>\n      <td>1.0</td>\n      <td>0.5288</td>\n      <td>0.2820</td>\n      <td>0.0590</td>\n      <td>0.0252</td>\n      <td>0.0094</td>\n      <td>0.0036</td>\n    </tr>\n    <tr>\n      <th>Z07 - Florida</th>\n      <td>1.0</td>\n      <td>0.6029</td>\n      <td>0.2772</td>\n      <td>0.0949</td>\n      <td>0.0266</td>\n      <td>0.0114</td>\n      <td>0.0042</td>\n    </tr>\n    <tr>\n      <th>Y08 - Loyola-Chicago</th>\n      <td>1.0</td>\n      <td>0.6212</td>\n      <td>0.2451</td>\n      <td>0.1473</td>\n      <td>0.0772</td>\n      <td>0.0320</td>\n      <td>0.0123</td>\n    </tr>\n    <tr>\n      <th>Z06 - Texas Tech</th>\n      <td>1.0</td>\n      <td>0.5745</td>\n      <td>0.2362</td>\n      <td>0.1426</td>\n      <td>0.0441</td>\n      <td>0.0180</td>\n      <td>0.0072</td>\n    </tr>\n    <tr>\n      <th>Z13 - North Texas</th>\n      <td>1.0</td>\n      <td>0.4712</td>\n      <td>0.2086</td>\n      <td>0.0390</td>\n      <td>0.0170</td>\n      <td>0.0061</td>\n      <td>0.0026</td>\n    </tr>\n    <tr>\n      <th>X07 - Oregon</th>\n      <td>1.0</td>\n      <td>0.5807</td>\n      <td>0.2068</td>\n      <td>0.1052</td>\n      <td>0.0247</td>\n      <td>0.0117</td>\n      <td>0.0042</td>\n    </tr>\n    <tr>\n      <th>W09 - St Bonaventure</th>\n      <td>1.0</td>\n      <td>0.5251</td>\n      <td>0.2016</td>\n      <td>0.1065</td>\n      <td>0.0437</td>\n      <td>0.0152</td>\n      <td>0.0069</td>\n    </tr>\n    <tr>\n      <th>Y11 - Syracuse</th>\n      <td>1.0</td>\n      <td>0.3576</td>\n      <td>0.1882</td>\n      <td>0.0573</td>\n      <td>0.0229</td>\n      <td>0.0091</td>\n      <td>0.0032</td>\n    </tr>\n    <tr>\n      <th>Y07 - Clemson</th>\n      <td>1.0</td>\n      <td>0.5926</td>\n      <td>0.1554</td>\n      <td>0.0721</td>\n      <td>0.0290</td>\n      <td>0.0107</td>\n      <td>0.0047</td>\n    </tr>\n    <tr>\n      <th>Z12 - Winthrop</th>\n      <td>1.0</td>\n      <td>0.3582</td>\n      <td>0.1552</td>\n      <td>0.0263</td>\n      <td>0.0123</td>\n      <td>0.0040</td>\n      <td>0.0020</td>\n    </tr>\n  </tbody>\n</table>\n</div>"
     },
     "metadata": {},
     "execution_count": 9
    }
   ],
   "source": [
    "sim_results = pd.DataFrame(summary_dict)\n",
    "sim_results['R0'].fillna(n_sim, inplace=True)\n",
    "sim_results.index = [f'{tourney.s_dict_rev[t]} - {submission.t_dict[t]}'\n",
    "                     for t in sim_results.index]\n",
    "sim_results.columns = ['First Round', 'Round of 32', 'Sweet 16',\n",
    "                       'Elite 8', 'Final 4', 'Championship', 'Winner']\n",
    "\n",
    "(sim_results/n_sim).sort_values('Sweet 16',ascending=False).head(32)"
   ]
  },
  {
   "source": [],
   "cell_type": "markdown",
   "metadata": {}
  }
 ]
}